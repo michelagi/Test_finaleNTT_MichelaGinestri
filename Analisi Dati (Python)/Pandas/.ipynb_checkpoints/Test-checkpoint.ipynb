{
 "cells": [
  {
   "cell_type": "code",
   "execution_count": 11,
   "id": "4f3d3e9c",
   "metadata": {},
   "outputs": [],
   "source": [
    "pippo = 0"
   ]
  },
  {
   "cell_type": "code",
   "execution_count": 2,
   "id": "cbc59f08",
   "metadata": {},
   "outputs": [],
   "source": [
    "def ciao(pippo):\n",
    "    print(pippo *5)"
   ]
  },
  {
   "cell_type": "code",
   "execution_count": 12,
   "id": "00037665",
   "metadata": {},
   "outputs": [
    {
     "name": "stdout",
     "output_type": "stream",
     "text": [
      "0\n"
     ]
    }
   ],
   "source": [
    "ciao(pippo)"
   ]
  }
 ],
 "metadata": {
  "kernelspec": {
   "display_name": "Python 3 (ipykernel)",
   "language": "python",
   "name": "python3"
  },
  "language_info": {
   "codemirror_mode": {
    "name": "ipython",
    "version": 3
   },
   "file_extension": ".py",
   "mimetype": "text/x-python",
   "name": "python",
   "nbconvert_exporter": "python",
   "pygments_lexer": "ipython3",
   "version": "3.9.7"
  }
 },
 "nbformat": 4,
 "nbformat_minor": 5
}
