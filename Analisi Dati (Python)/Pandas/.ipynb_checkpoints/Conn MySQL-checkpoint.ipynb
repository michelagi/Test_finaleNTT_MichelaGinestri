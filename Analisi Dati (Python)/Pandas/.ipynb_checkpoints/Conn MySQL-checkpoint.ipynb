{
 "cells": [
  {
   "cell_type": "code",
   "execution_count": 3,
   "id": "05de7663",
   "metadata": {},
   "outputs": [],
   "source": [
    "import pandas as pd\n",
    "import numpy as np"
   ]
  },
  {
   "cell_type": "markdown",
   "id": "0aaccd1b",
   "metadata": {},
   "source": [
    "# conda install -c conda-forge mysql-connector-python"
   ]
  },
  {
   "cell_type": "code",
   "execution_count": 6,
   "id": "5793a2c5",
   "metadata": {},
   "outputs": [
    {
     "name": "stdout",
     "output_type": "stream",
     "text": [
      "1.3.4\n"
     ]
    },
    {
     "data": {
      "text/plain": [
       "'1.20.3'"
      ]
     },
     "execution_count": 6,
     "metadata": {},
     "output_type": "execute_result"
    }
   ],
   "source": [
    "#Vediamo la versione del nostro pandas e del nostro numpy\n",
    "print(pd.__version__)\n",
    "np.__version__"
   ]
  },
  {
   "cell_type": "code",
   "execution_count": 7,
   "id": "9e60c927",
   "metadata": {},
   "outputs": [],
   "source": [
    "%config Completer.use_jedi = False"
   ]
  },
  {
   "cell_type": "code",
   "execution_count": 1,
   "id": "2688047c",
   "metadata": {},
   "outputs": [],
   "source": [
    "import mysql.connector as mysql"
   ]
  },
  {
   "cell_type": "code",
   "execution_count": 6,
   "id": "9402c0a5",
   "metadata": {},
   "outputs": [
    {
     "name": "stdout",
     "output_type": "stream",
     "text": [
      "campionati\n",
      "corsontt\n",
      "dml\n",
      "eliss\n",
      "esempi\n",
      "information_schema\n",
      "musicisti\n",
      "mysql\n",
      "online_movie_rating\n",
      "online_movie_rating1\n",
      "performance_schema\n",
      "pippo\n",
      "prova\n",
      "ql2\n",
      "sys\n",
      "test123\n",
      "venerdi\n"
     ]
    }
   ],
   "source": [
    "conn = mysql.connect(user='root',password=\"root\",host='localhost',buffered=True,database='prova')\n",
    "cursor = conn.cursor()\n",
    "databases = (\"show databases\")\n",
    "cursor.execute(databases)\n",
    "for (databases) in cursor:\n",
    "    print (databases[0])"
   ]
  }
 ],
 "metadata": {
  "kernelspec": {
   "display_name": "Python 3 (ipykernel)",
   "language": "python",
   "name": "python3"
  },
  "language_info": {
   "codemirror_mode": {
    "name": "ipython",
    "version": 3
   },
   "file_extension": ".py",
   "mimetype": "text/x-python",
   "name": "python",
   "nbconvert_exporter": "python",
   "pygments_lexer": "ipython3",
   "version": "3.10.0"
  }
 },
 "nbformat": 4,
 "nbformat_minor": 5
}
