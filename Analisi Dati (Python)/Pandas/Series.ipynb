{
 "cells": [
  {
   "cell_type": "code",
   "execution_count": 2,
   "id": "566b12f2",
   "metadata": {},
   "outputs": [],
   "source": [
    "import pandas as pd"
   ]
  },
  {
   "cell_type": "code",
   "execution_count": 2,
   "id": "35773562",
   "metadata": {},
   "outputs": [
    {
     "data": {
      "text/plain": [
       "0        limone\n",
       "1       fragola\n",
       "2    cioccolato\n",
       "dtype: object"
      ]
     },
     "execution_count": 2,
     "metadata": {},
     "output_type": "execute_result"
    }
   ],
   "source": [
    "gelati = [\"limone\",\"fragola\",\"cioccolato\"]\n",
    "pd.Series(gelati)"
   ]
  },
  {
   "cell_type": "code",
   "execution_count": 4,
   "id": "4d3409ca",
   "metadata": {},
   "outputs": [
    {
     "data": {
      "text/plain": [
       "0    1\n",
       "1    6\n",
       "2    4\n",
       "3    8\n",
       "4    9\n",
       "5    7\n",
       "dtype: int64"
      ]
     },
     "execution_count": 4,
     "metadata": {},
     "output_type": "execute_result"
    }
   ],
   "source": [
    "#Proviamo a creare una nuova Series questa volta con dei numeri\n",
    "lotteria = [1,6,4,8,9,7]\n",
    "pd.Series(lotteria)"
   ]
  },
  {
   "cell_type": "code",
   "execution_count": 5,
   "id": "76bebc68",
   "metadata": {},
   "outputs": [
    {
     "data": {
      "text/plain": [
       "0     True\n",
       "1    False\n",
       "2     True\n",
       "3    False\n",
       "dtype: bool"
      ]
     },
     "execution_count": 5,
     "metadata": {},
     "output_type": "execute_result"
    }
   ],
   "source": [
    "#Proviamo a creare una nuova Series questa volta con dei booleani\n",
    "registrazioni = [True,False,True,False]\n",
    "pd.Series(registrazioni)"
   ]
  },
  {
   "cell_type": "code",
   "execution_count": 6,
   "id": "83a3cd35",
   "metadata": {},
   "outputs": [
    {
     "data": {
      "text/plain": [
       "0     True\n",
       "1        1\n",
       "2       50\n",
       "3    hello\n",
       "dtype: object"
      ]
     },
     "execution_count": 6,
     "metadata": {},
     "output_type": "execute_result"
    }
   ],
   "source": [
    "test = [True,1,50,\"hello\"]\n",
    "pd.Series(test)"
   ]
  },
  {
   "cell_type": "code",
   "execution_count": 9,
   "id": "67400f8d",
   "metadata": {},
   "outputs": [
    {
     "data": {
      "text/plain": [
       "007            film\n",
       "Brasile     Nazione\n",
       "Rabbia     emozione\n",
       "dtype: object"
      ]
     },
     "execution_count": 9,
     "metadata": {},
     "output_type": "execute_result"
    }
   ],
   "source": [
    "#Creiamo una series a partire da un dizionario, ricordiamoci che le coppie interne \n",
    "#ad un dizionario sono sempre separate da virgole e sia chiave che valore sono strighe\n",
    "dizionario = {\"007\":\"film\",\n",
    "             \"Brasile\":\"Nazione\",\n",
    "             \"Rabbia\":\"emozione\"}\n",
    "\n",
    "pd.Series(dizionario)\n",
    "#Come potete notare sono un po differenti dalle serie che abbiamo appena visto,\n",
    "#ma vi assicurò che è ancora una serie, la differenza e che gli indici ora sono costituiti\n",
    "#dalle chiavi del nostro dizionario"
   ]
  },
  {
   "cell_type": "markdown",
   "id": "4be1b447",
   "metadata": {},
   "source": [
    "# Partiamo a vedere gli attributi"
   ]
  },
  {
   "cell_type": "code",
   "execution_count": 18,
   "id": "7a408b91",
   "metadata": {},
   "outputs": [
    {
     "data": {
      "text/plain": [
       "0           Bravi\n",
       "1         Attenti\n",
       "2    Intelligenti\n",
       "3       Brillanti\n",
       "dtype: object"
      ]
     },
     "execution_count": 18,
     "metadata": {},
     "output_type": "execute_result"
    }
   ],
   "source": [
    "dicono_di_voi = [\"Bravi\",\"Attenti\",\"Intelligenti\",\"Brillanti\"]\n",
    "pd.Series(dicono_di_voi)\n",
    "#Ovviamente gli indici saranno generati automaticamente perche non gli abbiamo specificato nulla\n",
    "#Altrettanto ovvio e che se noi non andiamo a salvare questo oggetto in nessuna variabile l'ogetto andrà perso\n",
    "#L'assegnazione viene eseguita normalmente come qualunque altra assegnazione\n",
    "ragazzi = pd.Series(dicono_di_voi)\n",
    "ragazzi"
   ]
  },
  {
   "cell_type": "code",
   "execution_count": 15,
   "id": "7fa0e52d",
   "metadata": {},
   "outputs": [
    {
     "data": {
      "text/plain": [
       "array(['Bravi', 'Attenti', 'Intelligenti', 'Brillanti'], dtype=object)"
      ]
     },
     "execution_count": 15,
     "metadata": {},
     "output_type": "execute_result"
    }
   ],
   "source": [
    "# Ora cerchiamo di capire qual'è la differenza sostanziale tra attributi e metodi\n",
    "\n",
    "# values mostra i valori interni alla serie e ne creerà un array monodimensionale, ricordiamo che inoltre si sta \n",
    "#parlando di un attributo il che significa che non manipolerà in alcun modo quei valori\n",
    "ragazzi.values"
   ]
  },
  {
   "cell_type": "code",
   "execution_count": 16,
   "id": "d1e0b40b",
   "metadata": {},
   "outputs": [
    {
     "data": {
      "text/plain": [
       "RangeIndex(start=0, stop=4, step=1)"
      ]
     },
     "execution_count": 16,
     "metadata": {},
     "output_type": "execute_result"
    }
   ],
   "source": [
    "ragazzi.index\n",
    "#index mi permette di controllare l'indice della nostra Series, ci indica l'inizio dell'indice ( START)\n",
    "# la fine dell'indice ( STOP) e il passo di incremento ( STEP )"
   ]
  },
  {
   "cell_type": "code",
   "execution_count": 21,
   "id": "6479f57a",
   "metadata": {},
   "outputs": [
    {
     "data": {
      "text/plain": [
       "dtype('O')"
      ]
     },
     "execution_count": 21,
     "metadata": {},
     "output_type": "execute_result"
    }
   ],
   "source": [
    "ragazzi.dtype\n",
    "# dtype in questo caso specifico mi spacchetta quello che è il mio oggetto Series e me ne torna il tipo"
   ]
  },
  {
   "cell_type": "markdown",
   "id": "64292591",
   "metadata": {},
   "source": [
    "# Vediamo i metodi"
   ]
  },
  {
   "cell_type": "code",
   "execution_count": 6,
   "id": "87472625",
   "metadata": {},
   "outputs": [
    {
     "data": {
      "text/plain": [
       "8.89"
      ]
     },
     "execution_count": 6,
     "metadata": {},
     "output_type": "execute_result"
    }
   ],
   "source": [
    "# il primo metodo interessante sulle series è il metodo sum il quale ci torna la sommma di tutti quelli che sono i \n",
    " # i numeri interni alla serie\n",
    "prezzi = [2.99,4.45,1.45]\n",
    "pd.Series(prezzi)\n",
    "s = pd.Series(prezzi)\n",
    "s.sum()"
   ]
  },
  {
   "cell_type": "code",
   "execution_count": 7,
   "id": "a0c52314",
   "metadata": {},
   "outputs": [
    {
     "data": {
      "text/plain": [
       "19.292975000000002"
      ]
     },
     "execution_count": 7,
     "metadata": {},
     "output_type": "execute_result"
    }
   ],
   "source": [
    "# abbiamo poi il metodo che mi permette di eseguire le moltiplicazioni\n",
    "s.product()"
   ]
  },
  {
   "cell_type": "code",
   "execution_count": 8,
   "id": "04361bac",
   "metadata": {},
   "outputs": [
    {
     "data": {
      "text/plain": [
       "2.9633333333333334"
      ]
     },
     "execution_count": 8,
     "metadata": {},
     "output_type": "execute_result"
    }
   ],
   "source": [
    "# e infine un ultimo metodo giusto per darvi un assaggio di ciò che può fare questa libreria\n",
    "s.mean()\n",
    "# mean mi ritorna quello che è la media della seriss"
   ]
  },
  {
   "cell_type": "code",
   "execution_count": 17,
   "id": "e16ecb13",
   "metadata": {},
   "outputs": [
    {
     "data": {
      "text/plain": [
       "Lunedi          Mele\n",
       "Martedi       Banane\n",
       "Mercoledì    Lamponi\n",
       "Giovedì       Arance\n",
       "dtype: object"
      ]
     },
     "execution_count": 17,
     "metadata": {},
     "output_type": "execute_result"
    }
   ],
   "source": [
    "frutta = [\"Mele\",\"Banane\",\"Lamponi\",\"Arance\"]\n",
    "giorni_settimana = [\"Lunedi\",\"Martedi\",\"Mercoledì\",\"Giovedì\"]\n",
    "# pd.Series()\n",
    "# Ora premendo il tasto maiuscolo + il tasto TAB uscirà quella che è la documentazione relativa al metodo Series\n",
    "# Come potete notare vi fa vedere i cosidetti parametri e se ci fate bene caso vedete un assegnazione\n",
    "# Quelli sono i parametri che pandas utilizzerà se non assegnate nulla, ad esempio index = None\n",
    "# indica che se voi non andate a passare il parametro inizierà a creare l'indice a partire da 0\n",
    "\n",
    "pd.Series(frutta,giorni_settimana)\n",
    "pd.Series(data=frutta,index=giorni_settimana)\n",
    "# Se il numero delle chiavi e dei valori in questo caso non combaciano vi darà un errore di generazione"
   ]
  },
  {
   "cell_type": "code",
   "execution_count": 19,
   "id": "920b4fe5",
   "metadata": {},
   "outputs": [
    {
     "data": {
      "text/plain": [
       "Lunedi           Mele\n",
       "Martedi        Banane\n",
       "Mercoledì     Lamponi\n",
       "Giovedì        Arance\n",
       "Martedi      Cocomero\n",
       "dtype: object"
      ]
     },
     "execution_count": 19,
     "metadata": {},
     "output_type": "execute_result"
    }
   ],
   "source": [
    "# Domanda secondo voi gli indici devono essere univoci??\n",
    " #NO!\n",
    "frutta = [\"Mele\",\"Banane\",\"Lamponi\",\"Arance\",\"Cocomero\"]\n",
    "giorni_settimana = [\"Lunedi\",\"Martedi\",\"Mercoledì\",\"Giovedì\",\"Martedi\"]\n",
    "pd.Series(data=frutta,index=giorni_settimana)\n",
    "\n",
    "# Ovviamente ponete attenzione al fatto di avere indici duplicati! Questo perchè non vi permetterà di fare\n",
    "# Ricerche mirate sulla chiave"
   ]
  },
  {
   "cell_type": "markdown",
   "id": "b7cba2bd",
   "metadata": {},
   "source": [
    "# import Series leggendo da read_csv"
   ]
  },
  {
   "cell_type": "code",
   "execution_count": 20,
   "id": "453aebdf",
   "metadata": {},
   "outputs": [
    {
     "data": {
      "text/html": [
       "<div>\n",
       "<style scoped>\n",
       "    .dataframe tbody tr th:only-of-type {\n",
       "        vertical-align: middle;\n",
       "    }\n",
       "\n",
       "    .dataframe tbody tr th {\n",
       "        vertical-align: top;\n",
       "    }\n",
       "\n",
       "    .dataframe thead th {\n",
       "        text-align: right;\n",
       "    }\n",
       "</style>\n",
       "<table border=\"1\" class=\"dataframe\">\n",
       "  <thead>\n",
       "    <tr style=\"text-align: right;\">\n",
       "      <th></th>\n",
       "      <th>Pokemon</th>\n",
       "      <th>Type</th>\n",
       "    </tr>\n",
       "  </thead>\n",
       "  <tbody>\n",
       "    <tr>\n",
       "      <th>0</th>\n",
       "      <td>Bulbasaur</td>\n",
       "      <td>Grass</td>\n",
       "    </tr>\n",
       "    <tr>\n",
       "      <th>1</th>\n",
       "      <td>Ivysaur</td>\n",
       "      <td>Grass</td>\n",
       "    </tr>\n",
       "    <tr>\n",
       "      <th>2</th>\n",
       "      <td>Venusaur</td>\n",
       "      <td>Grass</td>\n",
       "    </tr>\n",
       "    <tr>\n",
       "      <th>3</th>\n",
       "      <td>Charmander</td>\n",
       "      <td>Fire</td>\n",
       "    </tr>\n",
       "    <tr>\n",
       "      <th>4</th>\n",
       "      <td>Charmeleon</td>\n",
       "      <td>Fire</td>\n",
       "    </tr>\n",
       "    <tr>\n",
       "      <th>...</th>\n",
       "      <td>...</td>\n",
       "      <td>...</td>\n",
       "    </tr>\n",
       "    <tr>\n",
       "      <th>716</th>\n",
       "      <td>Yveltal</td>\n",
       "      <td>Dark</td>\n",
       "    </tr>\n",
       "    <tr>\n",
       "      <th>717</th>\n",
       "      <td>Zygarde</td>\n",
       "      <td>Dragon</td>\n",
       "    </tr>\n",
       "    <tr>\n",
       "      <th>718</th>\n",
       "      <td>Diancie</td>\n",
       "      <td>Rock</td>\n",
       "    </tr>\n",
       "    <tr>\n",
       "      <th>719</th>\n",
       "      <td>Hoopa</td>\n",
       "      <td>Psychic</td>\n",
       "    </tr>\n",
       "    <tr>\n",
       "      <th>720</th>\n",
       "      <td>Volcanion</td>\n",
       "      <td>Fire</td>\n",
       "    </tr>\n",
       "  </tbody>\n",
       "</table>\n",
       "<p>721 rows × 2 columns</p>\n",
       "</div>"
      ],
      "text/plain": [
       "        Pokemon     Type\n",
       "0     Bulbasaur    Grass\n",
       "1       Ivysaur    Grass\n",
       "2      Venusaur    Grass\n",
       "3    Charmander     Fire\n",
       "4    Charmeleon     Fire\n",
       "..          ...      ...\n",
       "716     Yveltal     Dark\n",
       "717     Zygarde   Dragon\n",
       "718     Diancie     Rock\n",
       "719       Hoopa  Psychic\n",
       "720   Volcanion     Fire\n",
       "\n",
       "[721 rows x 2 columns]"
      ]
     },
     "execution_count": 20,
     "metadata": {},
     "output_type": "execute_result"
    }
   ],
   "source": [
    "# Se rimaniamo con il cursore interno alle parentesi del metodo e schiacciamo nuovamente\n",
    "# shift tab ci verrà mostrata la documentazione, come potete vedere è immenso quello che ci fa vedere\n",
    "# tutti questi sono i parametri che possono essere utilizzati nel chiamare questo metodo\n",
    "# Non so ad esempio skip_blank_lines e mi fa saltare gli spazi bianchi iniziali\n",
    "# Quante righe vogliamo saltare con skip row, usecols per dire quali colonne vogliamo usare\n",
    "# Il parametro principale è filepath_or_buffer il che indica il percorso dal quale prendere il file csv\n",
    "\n",
    "pd.read_csv(\"pokemon.csv\")\n",
    "\n",
    "# Quello che state attualmente vedendo è un altro oggetto di pandas, chiamato DataFrame"
   ]
  },
  {
   "cell_type": "code",
   "execution_count": 22,
   "id": "57948e64",
   "metadata": {},
   "outputs": [
    {
     "data": {
      "text/plain": [
       "0       Bulbasaur\n",
       "1         Ivysaur\n",
       "2        Venusaur\n",
       "3      Charmander\n",
       "4      Charmeleon\n",
       "          ...    \n",
       "716       Yveltal\n",
       "717       Zygarde\n",
       "718       Diancie\n",
       "719         Hoopa\n",
       "720     Volcanion\n",
       "Name: Pokemon, Length: 721, dtype: object"
      ]
     },
     "execution_count": 22,
     "metadata": {},
     "output_type": "execute_result"
    }
   ],
   "source": [
    "#immaginiamo ora di aver la necessità di utilizzare quella che e solamente la prima colonna di questo dataframe\n",
    "# per farlo utilizzeremo usecols che accetta come input una lista di parametri che devono necessariamente matchare\n",
    "# con i nomi delle colonne\n",
    "\n",
    "# pd.read_csv(\"pokemon.csv\", usecols = [\"Pokemon\"])\n",
    "\n",
    "# dal momento che ora abbiamo un dataFrame con un unica colonna  possiamo trasformarlo in serie , per fare ciò \n",
    "# utilizziamo squeeze\n",
    "\n",
    "pd.read_csv(\"pokemon.csv\", usecols = [\"Pokemon\"], squeeze = True)\n",
    "\n",
    "\n",
    "# ovviamente non possiamo accedere ad alcun attributo o metodo se prima non lo assegnamo ad una variabile"
   ]
  },
  {
   "cell_type": "code",
   "execution_count": 37,
   "id": "71057e39",
   "metadata": {},
   "outputs": [
    {
     "data": {
      "text/plain": [
       "0        50.12\n",
       "1        54.10\n",
       "2        54.65\n",
       "3        52.38\n",
       "4        52.95\n",
       "         ...  \n",
       "3007    772.88\n",
       "3008    771.07\n",
       "3009    773.18\n",
       "3010    771.61\n",
       "3011    782.22\n",
       "Name: Stock Price, Length: 3012, dtype: float64"
      ]
     },
     "execution_count": 37,
     "metadata": {},
     "output_type": "execute_result"
    }
   ],
   "source": [
    "# Facciamo un altro esempio\n",
    "pd.read_csv(\"google_stock_price.csv\", usecols = [\"Stock Price\"] ,squeeze = True)"
   ]
  },
  {
   "cell_type": "markdown",
   "id": "6c875416",
   "metadata": {},
   "source": [
    "# Esercizio food"
   ]
  },
  {
   "cell_type": "code",
   "execution_count": 38,
   "id": "45dd2c7d",
   "metadata": {},
   "outputs": [],
   "source": [
    "pokemon = pd.read_csv(\"pokemon.csv\", usecols = [\"Pokemon\"], squeeze = True)\n",
    "google = pd.read_csv(\"google_stock_price.csv\",squeeze = True)"
   ]
  },
  {
   "cell_type": "code",
   "execution_count": 41,
   "id": "165c2093",
   "metadata": {},
   "outputs": [
    {
     "data": {
      "text/plain": [
       "0     Bulbasaur\n",
       "1       Ivysaur\n",
       "2      Venusaur\n",
       "3    Charmander\n",
       "4    Charmeleon\n",
       "Name: Pokemon, dtype: object"
      ]
     },
     "execution_count": 41,
     "metadata": {},
     "output_type": "execute_result"
    }
   ],
   "source": [
    "# andiamo a vedere altri e due metodi head e tail\n",
    "\n",
    "# il metodo head ci permette di ritornare le righe a partire dalla prima fino alla riga n\n",
    "# il metodo inoltre fa di più, legge le righe della series esegue una copia temporanea che può\n",
    "# essere utilizzata per venire memorizzata all'interno di una variabile\n",
    "pokemon.head()"
   ]
  },
  {
   "cell_type": "code",
   "execution_count": 42,
   "id": "3e2724a6",
   "metadata": {},
   "outputs": [
    {
     "data": {
      "text/plain": [
       "716      Yveltal\n",
       "717      Zygarde\n",
       "718      Diancie\n",
       "719        Hoopa\n",
       "720    Volcanion\n",
       "Name: Pokemon, dtype: object"
      ]
     },
     "execution_count": 42,
     "metadata": {},
     "output_type": "execute_result"
    }
   ],
   "source": [
    "# tail è il metodo complementare, con il quale facciamo ritornare quelle che sono le righe finali\n",
    "pokemon.tail()"
   ]
  },
  {
   "cell_type": "code",
   "execution_count": 44,
   "id": "799778c8",
   "metadata": {},
   "outputs": [
    {
     "data": {
      "text/plain": [
       "721"
      ]
     },
     "execution_count": 44,
     "metadata": {},
     "output_type": "execute_result"
    }
   ],
   "source": [
    "# andiamo a vedere quale funzione built-in di python che opera bene con le serie\n",
    "# questo è possibile perchè ovviamente pandas e ben integrato \n",
    "\n",
    "#len\n",
    "len(pokemon)"
   ]
  },
  {
   "cell_type": "code",
   "execution_count": 45,
   "id": "1fc74bfe",
   "metadata": {},
   "outputs": [
    {
     "data": {
      "text/plain": [
       "['Abomasnow',\n",
       " 'Abra',\n",
       " 'Absol',\n",
       " 'Accelgor',\n",
       " 'Aegislash',\n",
       " 'Aerodactyl',\n",
       " 'Aggron',\n",
       " 'Aipom',\n",
       " 'Alakazam',\n",
       " 'Alomomola',\n",
       " 'Altaria',\n",
       " 'Amaura',\n",
       " 'Ambipom',\n",
       " 'Amoonguss',\n",
       " 'Ampharos',\n",
       " 'Anorith',\n",
       " 'Arbok',\n",
       " 'Arcanine',\n",
       " 'Arceus',\n",
       " 'Archen',\n",
       " 'Archeops',\n",
       " 'Ariados',\n",
       " 'Armaldo',\n",
       " 'Aromatisse',\n",
       " 'Aron',\n",
       " 'Articuno',\n",
       " 'Audino',\n",
       " 'Aurorus',\n",
       " 'Avalugg',\n",
       " 'Axew',\n",
       " 'Azelf',\n",
       " 'Azumarill',\n",
       " 'Azurill',\n",
       " 'Bagon',\n",
       " 'Baltoy',\n",
       " 'Banette',\n",
       " 'Barbaracle',\n",
       " 'Barboach',\n",
       " 'Basculin',\n",
       " 'Bastiodon',\n",
       " 'Bayleef',\n",
       " 'Beartic',\n",
       " 'Beautifly',\n",
       " 'Beedrill',\n",
       " 'Beheeyem',\n",
       " 'Beldum',\n",
       " 'Bellossom',\n",
       " 'Bellsprout',\n",
       " 'Bergmite',\n",
       " 'Bibarel',\n",
       " 'Bidoof',\n",
       " 'Binacle',\n",
       " 'Bisharp',\n",
       " 'Blastoise',\n",
       " 'Blaziken',\n",
       " 'Blissey',\n",
       " 'Blitzle',\n",
       " 'Boldore',\n",
       " 'Bonsly',\n",
       " 'Bouffalant',\n",
       " 'Braixen',\n",
       " 'Braviary',\n",
       " 'Breloom',\n",
       " 'Bronzong',\n",
       " 'Bronzor',\n",
       " 'Budew',\n",
       " 'Buizel',\n",
       " 'Bulbasaur',\n",
       " 'Buneary',\n",
       " 'Bunnelby',\n",
       " 'Burmy',\n",
       " 'Butterfree',\n",
       " 'Cacnea',\n",
       " 'Cacturne',\n",
       " 'Camerupt',\n",
       " 'Carbink',\n",
       " 'Carnivine',\n",
       " 'Carracosta',\n",
       " 'Carvanha',\n",
       " 'Cascoon',\n",
       " 'Castform',\n",
       " 'Caterpie',\n",
       " 'Celebi',\n",
       " 'Chandelure',\n",
       " 'Chansey',\n",
       " 'Charizard',\n",
       " 'Charmander',\n",
       " 'Charmeleon',\n",
       " 'Chatot',\n",
       " 'Cherrim',\n",
       " 'Cherubi',\n",
       " 'Chesnaught',\n",
       " 'Chespin',\n",
       " 'Chikorita',\n",
       " 'Chimchar',\n",
       " 'Chimecho',\n",
       " 'Chinchou',\n",
       " 'Chingling',\n",
       " 'Cinccino',\n",
       " 'Clamperl',\n",
       " 'Clauncher',\n",
       " 'Clawitzer',\n",
       " 'Claydol',\n",
       " 'Clefable',\n",
       " 'Clefairy',\n",
       " 'Cleffa',\n",
       " 'Cloyster',\n",
       " 'Cobalion',\n",
       " 'Cofagrigus',\n",
       " 'Combee',\n",
       " 'Combusken',\n",
       " 'Conkeldurr',\n",
       " 'Corphish',\n",
       " 'Corsola',\n",
       " 'Cottonee',\n",
       " 'Cradily',\n",
       " 'Cranidos',\n",
       " 'Crawdaunt',\n",
       " 'Cresselia',\n",
       " 'Croagunk',\n",
       " 'Crobat',\n",
       " 'Croconaw',\n",
       " 'Crustle',\n",
       " 'Cryogonal',\n",
       " 'Cubchoo',\n",
       " 'Cubone',\n",
       " 'Cyndaquil',\n",
       " 'Darkrai',\n",
       " 'Darmanitan',\n",
       " 'Darumaka',\n",
       " 'Dedenne',\n",
       " 'Deerling',\n",
       " 'Deino',\n",
       " 'Delcatty',\n",
       " 'Delibird',\n",
       " 'Delphox',\n",
       " 'Deoxys',\n",
       " 'Dewgong',\n",
       " 'Dewott',\n",
       " 'Dialga',\n",
       " 'Diancie',\n",
       " 'Diggersby',\n",
       " 'Diglett',\n",
       " 'Ditto',\n",
       " 'Dodrio',\n",
       " 'Doduo',\n",
       " 'Donphan',\n",
       " 'Doublade',\n",
       " 'Dragalge',\n",
       " 'Dragonair',\n",
       " 'Dragonite',\n",
       " 'Drapion',\n",
       " 'Dratini',\n",
       " 'Drifblim',\n",
       " 'Drifloon',\n",
       " 'Drilbur',\n",
       " 'Drowzee',\n",
       " 'Druddigon',\n",
       " 'Ducklett',\n",
       " 'Dugtrio',\n",
       " 'Dunsparce',\n",
       " 'Duosion',\n",
       " 'Durant',\n",
       " 'Dusclops',\n",
       " 'Dusknoir',\n",
       " 'Duskull',\n",
       " 'Dustox',\n",
       " 'Dwebble',\n",
       " 'Eelektrik',\n",
       " 'Eelektross',\n",
       " 'Eevee',\n",
       " 'Ekans',\n",
       " 'Electabuzz',\n",
       " 'Electivire',\n",
       " 'Electrike',\n",
       " 'Electrode',\n",
       " 'Elekid',\n",
       " 'Elgyem',\n",
       " 'Emboar',\n",
       " 'Emolga',\n",
       " 'Empoleon',\n",
       " 'Entei',\n",
       " 'Escavalier',\n",
       " 'Espeon',\n",
       " 'Espurr',\n",
       " 'Excadrill',\n",
       " 'Exeggcute',\n",
       " 'Exeggutor',\n",
       " 'Exploud',\n",
       " \"Farfetch'd\",\n",
       " 'Fearow',\n",
       " 'Feebas',\n",
       " 'Fennekin',\n",
       " 'Feraligatr',\n",
       " 'Ferroseed',\n",
       " 'Ferrothorn',\n",
       " 'Finneon',\n",
       " 'Flaaffy',\n",
       " 'Flabébé',\n",
       " 'Flareon',\n",
       " 'Fletchinder',\n",
       " 'Fletchling',\n",
       " 'Floatzel',\n",
       " 'Floette',\n",
       " 'Florges',\n",
       " 'Flygon',\n",
       " 'Foongus',\n",
       " 'Forretress',\n",
       " 'Fraxure',\n",
       " 'Frillish',\n",
       " 'Froakie',\n",
       " 'Frogadier',\n",
       " 'Froslass',\n",
       " 'Furfrou',\n",
       " 'Furret',\n",
       " 'Gabite',\n",
       " 'Gallade',\n",
       " 'Galvantula',\n",
       " 'Garbodor',\n",
       " 'Garchomp',\n",
       " 'Gardevoir',\n",
       " 'Gastly',\n",
       " 'Gastrodon',\n",
       " 'Genesect',\n",
       " 'Gengar',\n",
       " 'Geodude',\n",
       " 'Gible',\n",
       " 'Gigalith',\n",
       " 'Girafarig',\n",
       " 'Giratina',\n",
       " 'Glaceon',\n",
       " 'Glalie',\n",
       " 'Glameow',\n",
       " 'Gligar',\n",
       " 'Gliscor',\n",
       " 'Gloom',\n",
       " 'Gogoat',\n",
       " 'Golbat',\n",
       " 'Goldeen',\n",
       " 'Golduck',\n",
       " 'Golem',\n",
       " 'Golett',\n",
       " 'Golurk',\n",
       " 'Goodra',\n",
       " 'Goomy',\n",
       " 'Gorebyss',\n",
       " 'Gothita',\n",
       " 'Gothitelle',\n",
       " 'Gothorita',\n",
       " 'Gourgeist',\n",
       " 'Granbull',\n",
       " 'Graveler',\n",
       " 'Greninja',\n",
       " 'Grimer',\n",
       " 'Grotle',\n",
       " 'Groudon',\n",
       " 'Grovyle',\n",
       " 'Growlithe',\n",
       " 'Grumpig',\n",
       " 'Gulpin',\n",
       " 'Gurdurr',\n",
       " 'Gyarados',\n",
       " 'Happiny',\n",
       " 'Hariyama',\n",
       " 'Haunter',\n",
       " 'Hawlucha',\n",
       " 'Haxorus',\n",
       " 'Heatmor',\n",
       " 'Heatran',\n",
       " 'Heliolisk',\n",
       " 'Helioptile',\n",
       " 'Heracross',\n",
       " 'Herdier',\n",
       " 'Hippopotas',\n",
       " 'Hippowdon',\n",
       " 'Hitmonchan',\n",
       " 'Hitmonlee',\n",
       " 'Hitmontop',\n",
       " 'Ho-oh',\n",
       " 'Honchkrow',\n",
       " 'Honedge',\n",
       " 'Hoopa',\n",
       " 'Hoothoot',\n",
       " 'Hoppip',\n",
       " 'Horsea',\n",
       " 'Houndoom',\n",
       " 'Houndour',\n",
       " 'Huntail',\n",
       " 'Hydreigon',\n",
       " 'Hypno',\n",
       " 'Igglybuff',\n",
       " 'Illumise',\n",
       " 'Infernape',\n",
       " 'Inkay',\n",
       " 'Ivysaur',\n",
       " 'Jellicent',\n",
       " 'Jigglypuff',\n",
       " 'Jirachi',\n",
       " 'Jolteon',\n",
       " 'Joltik',\n",
       " 'Jumpluff',\n",
       " 'Jynx',\n",
       " 'Kabuto',\n",
       " 'Kabutops',\n",
       " 'Kadabra',\n",
       " 'Kakuna',\n",
       " 'Kangaskhan',\n",
       " 'Karrablast',\n",
       " 'Kecleon',\n",
       " 'Keldeo',\n",
       " 'Kingdra',\n",
       " 'Kingler',\n",
       " 'Kirlia',\n",
       " 'Klang',\n",
       " 'Klefki',\n",
       " 'Klink',\n",
       " 'Klinklang',\n",
       " 'Koffing',\n",
       " 'Krabby',\n",
       " 'Kricketot',\n",
       " 'Kricketune',\n",
       " 'Krokorok',\n",
       " 'Krookodile',\n",
       " 'Kyogre',\n",
       " 'Kyurem',\n",
       " 'Lairon',\n",
       " 'Lampent',\n",
       " 'Landorus',\n",
       " 'Lanturn',\n",
       " 'Lapras',\n",
       " 'Larvesta',\n",
       " 'Larvitar',\n",
       " 'Latias',\n",
       " 'Latios',\n",
       " 'Leafeon',\n",
       " 'Leavanny',\n",
       " 'Ledian',\n",
       " 'Ledyba',\n",
       " 'Lickilicky',\n",
       " 'Lickitung',\n",
       " 'Liepard',\n",
       " 'Lileep',\n",
       " 'Lilligant',\n",
       " 'Lillipup',\n",
       " 'Linoone',\n",
       " 'Litleo',\n",
       " 'Litwick',\n",
       " 'Lombre',\n",
       " 'Lopunny',\n",
       " 'Lotad',\n",
       " 'Loudred',\n",
       " 'Lucario',\n",
       " 'Ludicolo',\n",
       " 'Lugia',\n",
       " 'Lumineon',\n",
       " 'Lunatone',\n",
       " 'Luvdisc',\n",
       " 'Luxio',\n",
       " 'Luxray',\n",
       " 'Machamp',\n",
       " 'Machoke',\n",
       " 'Machop',\n",
       " 'Magby',\n",
       " 'Magcargo',\n",
       " 'Magikarp',\n",
       " 'Magmar',\n",
       " 'Magmortar',\n",
       " 'Magnemite',\n",
       " 'Magneton',\n",
       " 'Magnezone',\n",
       " 'Makuhita',\n",
       " 'Malamar',\n",
       " 'Mamoswine',\n",
       " 'Manaphy',\n",
       " 'Mandibuzz',\n",
       " 'Manectric',\n",
       " 'Mankey',\n",
       " 'Mantine',\n",
       " 'Mantyke',\n",
       " 'Maractus',\n",
       " 'Mareep',\n",
       " 'Marill',\n",
       " 'Marowak',\n",
       " 'Marshtomp',\n",
       " 'Masquerain',\n",
       " 'Mawile',\n",
       " 'Medicham',\n",
       " 'Meditite',\n",
       " 'Meganium',\n",
       " 'Meloetta',\n",
       " 'Meowstic',\n",
       " 'Meowth',\n",
       " 'Mesprit',\n",
       " 'Metagross',\n",
       " 'Metang',\n",
       " 'Metapod',\n",
       " 'Mew',\n",
       " 'Mewtwo',\n",
       " 'Mienfoo',\n",
       " 'Mienshao',\n",
       " 'Mightyena',\n",
       " 'Milotic',\n",
       " 'Miltank',\n",
       " 'Mime Jr.',\n",
       " 'Minccino',\n",
       " 'Minun',\n",
       " 'Misdreavus',\n",
       " 'Mismagius',\n",
       " 'Moltres',\n",
       " 'Monferno',\n",
       " 'Mothim',\n",
       " 'Mr. Mime',\n",
       " 'Mudkip',\n",
       " 'Muk',\n",
       " 'Munchlax',\n",
       " 'Munna',\n",
       " 'Murkrow',\n",
       " 'Musharna',\n",
       " 'Natu',\n",
       " 'Nidoking',\n",
       " 'Nidoqueen',\n",
       " 'Nidoran',\n",
       " 'Nidoran♂',\n",
       " 'Nidorina',\n",
       " 'Nidorino',\n",
       " 'Nincada',\n",
       " 'Ninetales',\n",
       " 'Ninjask',\n",
       " 'Noctowl',\n",
       " 'Noibat',\n",
       " 'Noivern',\n",
       " 'Nosepass',\n",
       " 'Numel',\n",
       " 'Nuzleaf',\n",
       " 'Octillery',\n",
       " 'Oddish',\n",
       " 'Omanyte',\n",
       " 'Omastar',\n",
       " 'Onix',\n",
       " 'Oshawott',\n",
       " 'Pachirisu',\n",
       " 'Palkia',\n",
       " 'Palpitoad',\n",
       " 'Pancham',\n",
       " 'Pangoro',\n",
       " 'Panpour',\n",
       " 'Pansage',\n",
       " 'Pansear',\n",
       " 'Paras',\n",
       " 'Parasect',\n",
       " 'Patrat',\n",
       " 'Pawniard',\n",
       " 'Pelipper',\n",
       " 'Persian',\n",
       " 'Petilil',\n",
       " 'Phanpy',\n",
       " 'Phantump',\n",
       " 'Phione',\n",
       " 'Pichu',\n",
       " 'Pidgeot',\n",
       " 'Pidgeotto',\n",
       " 'Pidgey',\n",
       " 'Pidove',\n",
       " 'Pignite',\n",
       " 'Pikachu',\n",
       " 'Piloswine',\n",
       " 'Pineco',\n",
       " 'Pinsir',\n",
       " 'Piplup',\n",
       " 'Plusle',\n",
       " 'Politoed',\n",
       " 'Poliwag',\n",
       " 'Poliwhirl',\n",
       " 'Poliwrath',\n",
       " 'Ponyta',\n",
       " 'Poochyena',\n",
       " 'Porygon',\n",
       " 'Porygon-Z',\n",
       " 'Porygon2',\n",
       " 'Primeape',\n",
       " 'Prinplup',\n",
       " 'Probopass',\n",
       " 'Psyduck',\n",
       " 'Pumpkaboo',\n",
       " 'Pupitar',\n",
       " 'Purrloin',\n",
       " 'Purugly',\n",
       " 'Pyroar',\n",
       " 'Quagsire',\n",
       " 'Quilava',\n",
       " 'Quilladin',\n",
       " 'Qwilfish',\n",
       " 'Raichu',\n",
       " 'Raikou',\n",
       " 'Ralts',\n",
       " 'Rampardos',\n",
       " 'Rapidash',\n",
       " 'Raticate',\n",
       " 'Rattata',\n",
       " 'Rayquaza',\n",
       " 'Regice',\n",
       " 'Regigigas',\n",
       " 'Regirock',\n",
       " 'Registeel',\n",
       " 'Relicanth',\n",
       " 'Remoraid',\n",
       " 'Reshiram',\n",
       " 'Reuniclus',\n",
       " 'Rhydon',\n",
       " 'Rhyhorn',\n",
       " 'Rhyperior',\n",
       " 'Riolu',\n",
       " 'Roggenrola',\n",
       " 'Roselia',\n",
       " 'Roserade',\n",
       " 'Rotom',\n",
       " 'Rufflet',\n",
       " 'Sableye',\n",
       " 'Salamence',\n",
       " 'Samurott',\n",
       " 'Sandile',\n",
       " 'Sandshrew',\n",
       " 'Sandslash',\n",
       " 'Sawk',\n",
       " 'Sawsbuck',\n",
       " 'Scatterbug',\n",
       " 'Sceptile',\n",
       " 'Scizor',\n",
       " 'Scolipede',\n",
       " 'Scrafty',\n",
       " 'Scraggy',\n",
       " 'Scyther',\n",
       " 'Seadra',\n",
       " 'Seaking',\n",
       " 'Sealeo',\n",
       " 'Seedot',\n",
       " 'Seel',\n",
       " 'Seismitoad',\n",
       " 'Sentret',\n",
       " 'Serperior',\n",
       " 'Servine',\n",
       " 'Seviper',\n",
       " 'Sewaddle',\n",
       " 'Sharpedo',\n",
       " 'Shaymin',\n",
       " 'Shedinja',\n",
       " 'Shelgon',\n",
       " 'Shellder',\n",
       " 'Shellos',\n",
       " 'Shelmet',\n",
       " 'Shieldon',\n",
       " 'Shiftry',\n",
       " 'Shinx',\n",
       " 'Shroomish',\n",
       " 'Shuckle',\n",
       " 'Shuppet',\n",
       " 'Sigilyph',\n",
       " 'Silcoon',\n",
       " 'Simipour',\n",
       " 'Simisage',\n",
       " 'Simisear',\n",
       " 'Skarmory',\n",
       " 'Skiddo',\n",
       " 'Skiploom',\n",
       " 'Skitty',\n",
       " 'Skorupi',\n",
       " 'Skrelp',\n",
       " 'Skuntank',\n",
       " 'Slaking',\n",
       " 'Slakoth',\n",
       " 'Sliggoo',\n",
       " 'Slowbro',\n",
       " 'Slowking',\n",
       " 'Slowpoke',\n",
       " 'Slugma',\n",
       " 'Slurpuff',\n",
       " 'Smeargle',\n",
       " 'Smoochum',\n",
       " 'Sneasel',\n",
       " 'Snivy',\n",
       " 'Snorlax',\n",
       " 'Snorunt',\n",
       " 'Snover',\n",
       " 'Snubbull',\n",
       " 'Solosis',\n",
       " 'Solrock',\n",
       " 'Spearow',\n",
       " 'Spewpa',\n",
       " 'Spheal',\n",
       " 'Spinarak',\n",
       " 'Spinda',\n",
       " 'Spiritomb',\n",
       " 'Spoink',\n",
       " 'Spritzee',\n",
       " 'Squirtle',\n",
       " 'Stantler',\n",
       " 'Staraptor',\n",
       " 'Staravia',\n",
       " 'Starly',\n",
       " 'Starmie',\n",
       " 'Staryu',\n",
       " 'Steelix',\n",
       " 'Stoutland',\n",
       " 'Stunfisk',\n",
       " 'Stunky',\n",
       " 'Sudowoodo',\n",
       " 'Suicune',\n",
       " 'Sunflora',\n",
       " 'Sunkern',\n",
       " 'Surskit',\n",
       " 'Swablu',\n",
       " 'Swadloon',\n",
       " 'Swalot',\n",
       " 'Swampert',\n",
       " 'Swanna',\n",
       " 'Swellow',\n",
       " 'Swinub',\n",
       " 'Swirlix',\n",
       " 'Swoobat',\n",
       " 'Sylveon',\n",
       " 'Taillow',\n",
       " 'Talonflame',\n",
       " 'Tangela',\n",
       " 'Tangrowth',\n",
       " 'Tauros',\n",
       " 'Teddiursa',\n",
       " 'Tentacool',\n",
       " 'Tentacruel',\n",
       " 'Tepig',\n",
       " 'Terrakion',\n",
       " 'Throh',\n",
       " 'Thundurus',\n",
       " 'Timburr',\n",
       " 'Tirtouga',\n",
       " 'Togekiss',\n",
       " 'Togepi',\n",
       " 'Togetic',\n",
       " 'Torchic',\n",
       " 'Torkoal',\n",
       " 'Tornadus',\n",
       " 'Torterra',\n",
       " 'Totodile',\n",
       " 'Toxicroak',\n",
       " 'Tranquill',\n",
       " 'Trapinch',\n",
       " 'Treecko',\n",
       " 'Trevenant',\n",
       " 'Tropius',\n",
       " 'Trubbish',\n",
       " 'Turtwig',\n",
       " 'Tympole',\n",
       " 'Tynamo',\n",
       " 'Typhlosion',\n",
       " 'Tyranitar',\n",
       " 'Tyrantrum',\n",
       " 'Tyrogue',\n",
       " 'Tyrunt',\n",
       " 'Umbreon',\n",
       " 'Unfezant',\n",
       " 'Unown',\n",
       " 'Ursaring',\n",
       " 'Uxie',\n",
       " 'Vanillish',\n",
       " 'Vanillite',\n",
       " 'Vanilluxe',\n",
       " 'Vaporeon',\n",
       " 'Venipede',\n",
       " 'Venomoth',\n",
       " 'Venonat',\n",
       " 'Venusaur',\n",
       " 'Vespiquen',\n",
       " 'Vibrava',\n",
       " 'Victini',\n",
       " 'Victreebel',\n",
       " 'Vigoroth',\n",
       " 'Vileplume',\n",
       " 'Virizion',\n",
       " 'Vivillon',\n",
       " 'Volbeat',\n",
       " 'Volcanion',\n",
       " 'Volcarona',\n",
       " 'Voltorb',\n",
       " 'Vullaby',\n",
       " 'Vulpix',\n",
       " 'Wailmer',\n",
       " 'Wailord',\n",
       " 'Walrein',\n",
       " 'Wartortle',\n",
       " 'Watchog',\n",
       " 'Weavile',\n",
       " 'Weedle',\n",
       " 'Weepinbell',\n",
       " 'Weezing',\n",
       " 'Whimsicott',\n",
       " 'Whirlipede',\n",
       " 'Whiscash',\n",
       " 'Whismur',\n",
       " 'Wigglytuff',\n",
       " 'Wingull',\n",
       " 'Wobbuffet',\n",
       " 'Woobat',\n",
       " 'Wooper',\n",
       " 'Wormadam',\n",
       " 'Wurmple',\n",
       " 'Wynaut',\n",
       " 'Xatu',\n",
       " 'Xerneas',\n",
       " 'Yamask',\n",
       " 'Yanma',\n",
       " 'Yanmega',\n",
       " 'Yveltal',\n",
       " 'Zangoose',\n",
       " 'Zapdos',\n",
       " 'Zebstrika',\n",
       " 'Zekrom',\n",
       " 'Zigzagoon',\n",
       " 'Zoroark',\n",
       " 'Zorua',\n",
       " 'Zubat',\n",
       " 'Zweilous',\n",
       " 'Zygarde']"
      ]
     },
     "execution_count": 45,
     "metadata": {},
     "output_type": "execute_result"
    }
   ],
   "source": [
    "#sorted -> ordinamento ma attenzione che l0ouptut sarà un array\n",
    "sorted(pokemon)"
   ]
  },
  {
   "cell_type": "code",
   "execution_count": 46,
   "id": "1f118e43",
   "metadata": {},
   "outputs": [
    {
     "data": {
      "text/plain": [
       "pandas.core.series.Series"
      ]
     },
     "execution_count": 46,
     "metadata": {},
     "output_type": "execute_result"
    }
   ],
   "source": [
    "type(pokemon)"
   ]
  },
  {
   "cell_type": "code",
   "execution_count": 59,
   "id": "2350f986",
   "metadata": {},
   "outputs": [
    {
     "data": {
      "text/plain": [
       "'Abomasnow'"
      ]
     },
     "execution_count": 59,
     "metadata": {},
     "output_type": "execute_result"
    }
   ],
   "source": [
    "list (pokemon)\n",
    "dict(pokemon)\n",
    "max(pokemon)\n",
    "min(pokemon)"
   ]
  },
  {
   "cell_type": "markdown",
   "id": "4832708a",
   "metadata": {},
   "source": [
    "# Iniziamo a vedere quelli che possono essere attributi un po più corposi"
   ]
  },
  {
   "cell_type": "code",
   "execution_count": 64,
   "id": "04faa422",
   "metadata": {},
   "outputs": [
    {
     "data": {
      "text/plain": [
       "dtype('float64')"
      ]
     },
     "execution_count": 64,
     "metadata": {},
     "output_type": "execute_result"
    }
   ],
   "source": [
    "#Ricordiamoci innanzitutto che abbiamo la funzione values che ci fa vedere i valori delle colonne\n",
    "google.values\n",
    "pokemon.values\n",
    "\n",
    "# anche dtypes è molto importante che ci ricorda di che tipo è il set dei dati\n",
    "google.dtype"
   ]
  },
  {
   "cell_type": "code",
   "execution_count": 66,
   "id": "5e3016e0",
   "metadata": {},
   "outputs": [
    {
     "data": {
      "text/plain": [
       "False"
      ]
     },
     "execution_count": 66,
     "metadata": {},
     "output_type": "execute_result"
    }
   ],
   "source": [
    "# passiamo invece a un attributo che è importantissimo nell'analisi dei dati\n",
    "# is_unique ci mostrerà se ci sono duplicati all'interno della nostra series\n",
    "# Se torna TRUE indica che effettivamente non ci sono duplicati\n",
    "pokemon.is_unique\n",
    "google.is_unique"
   ]
  },
  {
   "cell_type": "code",
   "execution_count": 67,
   "id": "5830d69e",
   "metadata": {},
   "outputs": [
    {
     "data": {
      "text/plain": [
       "(721,)"
      ]
     },
     "execution_count": 67,
     "metadata": {},
     "output_type": "execute_result"
    }
   ],
   "source": [
    "# Restituisce una tupla che rappresenta la dimensionalità di DataFrame.\n",
    "# chiamandolo sul nostro set di dati ovviamente il secondo parametro rimarrà vuoto\n",
    "# questo perchè abbiamo un unica colonna e quindi non viene segnata\n",
    "# quando andremo a chiamarlo su un dataframe completo vedremo le differenze\n",
    "pokemon.shape"
   ]
  },
  {
   "cell_type": "code",
   "execution_count": 71,
   "id": "93d04130",
   "metadata": {},
   "outputs": [
    {
     "data": {
      "text/plain": [
       "0       Bulbasaur\n",
       "1         Ivysaur\n",
       "2        Venusaur\n",
       "3      Charmander\n",
       "4      Charmeleon\n",
       "          ...    \n",
       "716       Yveltal\n",
       "717       Zygarde\n",
       "718       Diancie\n",
       "719         Hoopa\n",
       "720     Volcanion\n",
       "Name: Pokemon nuovi, Length: 721, dtype: object"
      ]
     },
     "execution_count": 71,
     "metadata": {},
     "output_type": "execute_result"
    }
   ],
   "source": [
    "# ci torna quello che è il nome della series, una cosa carina di questo attrbiuto e che può\n",
    "# essere modificato, ad esempio, andando a chiamare semplicemente pokemon notiamo che il nome della serie\n",
    "# è effettivamente pokemon, ma se lo andiamo ad assegnare il nome cambierà\n",
    "pokemon.name\n",
    "\n",
    "pokemon\n",
    "\n",
    "\n",
    "pokemon.name = \"Pokemon nuovi\"\n",
    "\n",
    "pokemon"
   ]
  },
  {
   "cell_type": "code",
   "execution_count": 77,
   "id": "d8aa7cf0",
   "metadata": {},
   "outputs": [
    {
     "data": {
      "text/plain": [
       "459    Abomasnow\n",
       "62          Abra\n",
       "358        Absol\n",
       "616     Accelgor\n",
       "680    Aegislash\n",
       "Name: Pokemon nuovi, dtype: object"
      ]
     },
     "execution_count": 77,
     "metadata": {},
     "output_type": "execute_result"
    }
   ],
   "source": [
    "# abbiamo visto precedentemente il metodo sorted built-in di python, andiamo a vedere ora quello che e il metodo\n",
    "# di pandas per eseguire degli ordinamenti, possiamo ordinare in due modi principalmente:\n",
    "pokemon.sort_values()\n",
    "pokemon.sort_index()\n",
    "\n",
    "# ricordatevi inoltre che questi metodi pandas danno vita a nuovi oggetti series nel quale è possibile chiamare\n",
    "# altri metodi creando una sorta di concatenazione, ad esempio\n",
    "\n",
    "pokemon.sort_values().head(5)\n",
    "\n",
    "# ovviamente pokemon.sort_values ha i suoi attributi che indicano come deve essere ordinata la serie\n",
    "# infatti andando a controllare gli attributi ammessi notiamo che di default ascending è a True per cui e in ordine \n",
    "# ascendente, se vogliamo ordinare in modo discendente basta inserire ascending = false\n"
   ]
  },
  {
   "cell_type": "code",
   "execution_count": 80,
   "id": "74458398",
   "metadata": {},
   "outputs": [
    {
     "data": {
      "text/plain": [
       "3011    782.22\n",
       "Name: Stock Price, dtype: float64"
      ]
     },
     "execution_count": 80,
     "metadata": {},
     "output_type": "execute_result"
    }
   ],
   "source": [
    "# per quali motivi potrebbero essere utili questi ordinamenti, bhe ad esempio per capire qual'è stato\n",
    "# il prezzo più alto di un azione google\n",
    "google.sort_values(ascending = False).head(1)\n",
    "\n",
    "#ovviamente tutto ciò non ha minimamente modificato quella che è la seires principale"
   ]
  },
  {
   "cell_type": "markdown",
   "id": "37ca02ec",
   "metadata": {},
   "source": [
    "# parametro inplace\n",
    "\n"
   ]
  },
  {
   "cell_type": "code",
   "execution_count": 84,
   "id": "0849ef9d",
   "metadata": {},
   "outputs": [
    {
     "data": {
      "text/plain": [
       "11       49.95\n",
       "9        50.07\n",
       "0        50.12\n",
       "10       50.70\n",
       "12       50.74\n",
       "         ...  \n",
       "3010    771.61\n",
       "3007    772.88\n",
       "3009    773.18\n",
       "2859    776.60\n",
       "3011    782.22\n",
       "Name: Stock Price, Length: 3012, dtype: float64"
      ]
     },
     "execution_count": 84,
     "metadata": {},
     "output_type": "execute_result"
    }
   ],
   "source": [
    "#fin'ora abbiamo detto che gli ordinamenti che sono stati eseguiti non hanno intaccato minimamente la seire principale\n",
    "# e tutto ciò è vero, ma se volessimo invece sostituire quella che e la serie principale con la seria\n",
    "# aggiornata come possiamo fare? Bhe in questo caso possiamo o rieseguire un assegnazione della serie ordinata\n",
    "# ma il tutto non è ottimizzato o altrimenti ci viene in aiuto il parametro inplace\n",
    "google.sort_values(ascending = False, inplace = True)\n",
    "google"
   ]
  },
  {
   "cell_type": "code",
   "execution_count": 89,
   "id": "9bef23cf",
   "metadata": {},
   "outputs": [
    {
     "data": {
      "text/plain": [
       "3011    782.22\n",
       "3010    771.61\n",
       "3009    773.18\n",
       "3008    771.07\n",
       "3007    772.88\n",
       "         ...  \n",
       "4        52.95\n",
       "3        52.38\n",
       "2        54.65\n",
       "1        54.10\n",
       "0        50.12\n",
       "Name: Stock Price, Length: 3012, dtype: float64"
      ]
     },
     "execution_count": 89,
     "metadata": {},
     "output_type": "execute_result"
    }
   ],
   "source": [
    "#nel caso precedente ci siamo fermati a eseguire un riordinamento in base ad i valori, ma effettivamente\n",
    "# che cosa notiamo? Bhe che gli indici sono tutti sfalzati, quindi abbiamo sbagliato a capovolgere la lista\n",
    "# per capovolgere la lista basta essere un po furbi e ripetere la stessa cosa sugli indici no?!\n",
    "google.sort_index(ascending = False, inplace = True)\n",
    "google"
   ]
  },
  {
   "cell_type": "markdown",
   "id": "146eef31",
   "metadata": {},
   "source": [
    "# esercizio sorted"
   ]
  },
  {
   "cell_type": "code",
   "execution_count": 93,
   "id": "6d227450",
   "metadata": {},
   "outputs": [
    {
     "data": {
      "text/plain": [
       "True"
      ]
     },
     "execution_count": 93,
     "metadata": {},
     "output_type": "execute_result"
    }
   ],
   "source": [
    "# adiamo a vedere quella che è un'altra funzione built-in di python importantissima\n",
    "# in, in ci permette di controllare se un determinato valore è all'interno di un array,Series,DataFrame etc\n",
    "\n",
    "100 in [5,100,7,8]\n",
    "\n",
    "#allo stesso modo posso fare con una Serie, quindi vi chiedo se povassimo a scrivere qualcosa del tipo.... cosa esce?\n",
    "\"Bulbasaur\" in pokemon\n",
    "\n",
    "# il risultato in questo caso è false perchè pandas di default esegue la ricerca sulle chiavi e non sui valori\n",
    "# possiamo però sistemare la cosa dicendo a pandas che effettivamente deve cercare all'interno dei valori\n",
    "# e per fare ciò possiamo usare l'attributo values per controllare i valori\n",
    "\n",
    "\"Bulbasaur\" in pokemon.values\n",
    "\n",
    "# quindi potete tranquillamente usare la funzionalità o meglio l'operatore in per controllare la presenza di un valore\n",
    "# senza prestar attenzione a dove si trova"
   ]
  },
  {
   "cell_type": "code",
   "execution_count": 96,
   "id": "12a688a3",
   "metadata": {},
   "outputs": [
    {
     "data": {
      "text/plain": [
       "'Charmander'"
      ]
     },
     "execution_count": 96,
     "metadata": {},
     "output_type": "execute_result"
    }
   ],
   "source": [
    "# andiamo a vedere ora come eseguire le estrazione di un determinato valore in base alla sua posizione,\n",
    "# in base al suo indice, per fare ciò andiamo ad utilizzare quella che e chiamata bracket notation\n",
    "# non è altro che il passaggio dell'indice tra parentesi quadre quindi non mettetevi paura che non e niente di strano\n",
    "pokemon[100]\n",
    "\n",
    "# per controllare la veridicità facciamone una un po più rapida da visualizzare\n",
    "\n",
    "pokemon.head(5)\n",
    "pokemon[3]"
   ]
  },
  {
   "cell_type": "code",
   "execution_count": 103,
   "id": "76e0a721",
   "metadata": {},
   "outputs": [
    {
     "data": {
      "text/plain": [
       "100    Electrode\n",
       "101    Exeggcute\n",
       "102    Exeggutor\n",
       "103       Cubone\n",
       "104      Marowak\n",
       "         ...    \n",
       "716      Yveltal\n",
       "717      Zygarde\n",
       "718      Diancie\n",
       "719        Hoopa\n",
       "720    Volcanion\n",
       "Name: Pokemon, Length: 621, dtype: object"
      ]
     },
     "execution_count": 103,
     "metadata": {},
     "output_type": "execute_result"
    }
   ],
   "source": [
    "# e se vogliamo estrarre quelli che sono i valori di più indici simultaneamente? Bhe non ci sono problemi, basterà\n",
    "# eseguire una nested bracket quindi una coppia di parentesi quadra dentro l'altra\n",
    "pokemon[[100,3,570]]\n",
    "\n",
    "# possiamo anche estrarre i valori che vanno da una posizione ad un'altra utilizzando i due punti\n",
    "pokemon[100:150]\n",
    "\n",
    "#notate che i due punti sono l'operatore di slicing il che consente di partire dal primo numero, fino all'ultimo\n",
    "# escluso!\n",
    "\n",
    "# è possibile anche eseguire uno slicing diverso ad esempio.... il che mi farà vedere dal 100 in poi\n",
    "pokemon[100:]\n",
    "# è possibile fare anche il contrario ovviamente pokemon[:100]"
   ]
  },
  {
   "cell_type": "code",
   "execution_count": 116,
   "id": "76b15996",
   "metadata": {},
   "outputs": [
    {
     "data": {
      "text/plain": [
       "Pokemon\n",
       "Ditto           Normal\n",
       "Porygon         Normal\n",
       "Aerodactyl        Rock\n",
       "Dratini         Dragon\n",
       "Chikorita        Grass\n",
       "                ...   \n",
       "Tyrantrum         Rock\n",
       "Dedenne       Electric\n",
       "Klefki           Steel\n",
       "Bergmite           Ice\n",
       "Yveltal           Dark\n",
       "Name: Type, Length: 118, dtype: object"
      ]
     },
     "execution_count": 116,
     "metadata": {},
     "output_type": "execute_result"
    }
   ],
   "source": [
    "# abbiamo visto come estrarre valori in base alla POSIZIONE dell'indice, andiamo ora effettivamente a capire\n",
    "# come eseguire un estrazione da un set di dati contenente delle etichette\n",
    "# pd.read_csv(\"pokemon.csv\") l'output di questo dataset non è altro che un DataFrame che possiamo modellare\n",
    "# ad esempio se vogliamo che il nome dei pokemon diventino quelli che chiamiamo indici utilizziamo\n",
    "pokemon=pd.read_csv(\"pokemon.csv\", index_col=\"Pokemon\", squeeze = True)\n",
    "# la particolarità ora e che possiamo ovviamente usare gli indici per eseguire delle ricerche\n",
    "\n",
    "pokemon[\"Bulbasaur\"]\n",
    "#ovviamente uscirà Grass perchè ora i dati sono il tipo del pokemon, vi faccio notare che inoltre\n",
    "# che pokemon[0] darebbe lo stesso risultato, questo perchè bulbasaur è il primo della lista e quindi di pos 0\n",
    "# è possibile ancora una volta utilizzare la nested bracket per cercare + indici\n",
    "pokemon[[\"Bulbasaur\",\"Ditto\"]]\n",
    "# altrettanto se voglio vedere i pokemon da Ditto in po eseguo semplicemente slicing\n",
    "pokemon[\"Ditto\":]\n",
    "# nella bracket notation oltre che il parametro finale e iniiale può essere specificato anche il passo di incremento\n",
    "pokemon[\"Ditto\":\"Diancie\":5]"
   ]
  },
  {
   "cell_type": "code",
   "execution_count": 119,
   "id": "2f073a14",
   "metadata": {},
   "outputs": [
    {
     "data": {
      "text/plain": [
       "Pokemon\n",
       "Bulbasaur        Grass\n",
       "Mia_Etichetta      NaN\n",
       "Name: Type, dtype: object"
      ]
     },
     "execution_count": 119,
     "metadata": {},
     "output_type": "execute_result"
    }
   ],
   "source": [
    "# per essere estratte tutte le etichette devono essere presenti all'interno del set di dati altrimenti vi darà errore\n",
    "# esiste però un comando da relativamente poco che ci permette in ogni caso di inserire all'interno della nostra \n",
    "# series una nuova etichetta temporanea\n",
    "pokemon.reindex(index = [\"Bulbasaur\",\"Mia_Etichetta\"])\n",
    "# come notato è stato inserito il valore NaN sulla nuova etichetta il che indica l'assenza di informazione\n",
    "# questo metodo reindex io ve lo consiglio al posto di fare una ricerca \"normale\" sull'etichetta perchè\n",
    "# evita l'errore di cui abbiamo appena parlato"
   ]
  },
  {
   "cell_type": "markdown",
   "id": "c1160ebe",
   "metadata": {},
   "source": [
    "# esercizio extract"
   ]
  },
  {
   "cell_type": "code",
   "execution_count": 130,
   "id": "4c2490a9",
   "metadata": {},
   "outputs": [
    {
     "data": {
      "text/plain": [
       "'Non è un pokemon'"
      ]
     },
     "execution_count": 130,
     "metadata": {},
     "output_type": "execute_result"
    }
   ],
   "source": [
    "# andiamo a vedere quello che può essere un altro modo per eseguire un estrazione,questa volta ci facciamo aiutare dal \n",
    "# metodo get -> il parametro key mi indica l'etichetta o l'indice che devo passare \n",
    "pokemon.get(0)\n",
    "pokemon.get(\"Charmander\")\n",
    "pokemon.get([5,100])\n",
    "\n",
    "# notate che se andiamo a dare in input un etichetta o un indice inesistente l'editor non ci darà nessun errore\n",
    "# o messaggio, questo perchè di default panda torna None , per personalizzare questo ritorno e capire che effettivamente\n",
    "# il codice sta funzionando ma non torna nulla andiamo a modificare quello che è il secondo parametro sulla funzione get\n",
    "pokemon.get(\"Digimon\",default =\"Non è un pokemon\")\n"
   ]
  },
  {
   "cell_type": "code",
   "execution_count": 137,
   "id": "888144f1",
   "metadata": {},
   "outputs": [
    {
     "data": {
      "text/plain": [
       "count    3012.000000\n",
       "mean      334.310093\n",
       "std       173.187205\n",
       "min        49.950000\n",
       "25%       218.045000\n",
       "50%       283.315000\n",
       "75%       443.000000\n",
       "max       782.220000\n",
       "Name: Stock Price, dtype: float64"
      ]
     },
     "execution_count": 137,
     "metadata": {},
     "output_type": "execute_result"
    }
   ],
   "source": [
    "google.sort_index(ascending=True, inplace = True)\n",
    "google\n",
    "\n",
    "#andiamo ora a vedere un paio di metodi matematici che sicuramente ci aiuteranno, il primo in questo caso è\n",
    "# count, probabilmente il più famoso.. conta semplicemente il numero di righe della series\n",
    "google.count()\n",
    "# sapete la differenza tra count e len? o se non la sapete quale potrebbe essere secondo voi?\n",
    "\n",
    "# count calcola anche i valori nulli, mentre len no\n",
    "\n",
    "#std torna la deviazione standard, il che dovrebbe essere la media di quanto ci si discosta dalla media\n",
    "google.std()\n",
    "\n",
    "#mode torna il valore che è presente con maggior freqenza all'interno della series\n",
    "google.mode()\n",
    "\n",
    "\n",
    "#metodo describe che esegue fondamentalmente un riassunto degli operatori matematici più utilizzati\n",
    "\n",
    "google.describe()\n",
    "#25% indica in questo caso che il 25% dei valori sono al di sotto dei 218 euro o dollari\n",
    "# 50% e 75% uguale"
   ]
  },
  {
   "cell_type": "code",
   "execution_count": 141,
   "id": "5a2a3aae",
   "metadata": {},
   "outputs": [
    {
     "data": {
      "text/plain": [
       "Water       105\n",
       "Normal       93\n",
       "Grass        66\n",
       "Bug          63\n",
       "Fire         47\n",
       "Psychic      47\n",
       "Rock         41\n",
       "Electric     36\n",
       "Ground       30\n",
       "Poison       28\n",
       "Dark         28\n",
       "Fighting     25\n",
       "Dragon       24\n",
       "Ghost        23\n",
       "Ice          23\n",
       "Steel        22\n",
       "Fairy        17\n",
       "Flying        3\n",
       "Name: Type, dtype: int64"
      ]
     },
     "execution_count": 141,
     "metadata": {},
     "output_type": "execute_result"
    }
   ],
   "source": [
    "# andiamo a vedere ora come contare il numero di occorrenze di un particolare valore all'interno della nostra Series\n",
    "# per fare ciò utilizziamo il metodo .value_counts()\n",
    "pokemon.value_counts() # è possibile anche eseguire la sort inserendo ascending = True"
   ]
  },
  {
   "cell_type": "code",
   "execution_count": 143,
   "id": "e0541e57",
   "metadata": {},
   "outputs": [],
   "source": [
    "# andiamo a vedere il metodo apply, il metodo apply in pandas ci permette di applicare una funzionalità definita\n",
    "# dall'utente o built-in ad ogni riga della nostra Series, ipotizziamo ad esempio di voler classificare le transazioni\n",
    "# google facciamo una funzione nostra\n",
    "\n",
    "def classificazione(number):\n",
    "    if number < 300:\n",
    "        return \"Ok\"\n",
    "    elif number >= 300 and number <650:\n",
    "        return \"Soddisfacente\"\n",
    "    else:\n",
    "        return \"Straordinaria\"\n",
    "    \n",
    "    \n",
    "    "
   ]
  },
  {
   "cell_type": "code",
   "execution_count": 144,
   "id": "b3841fed",
   "metadata": {},
   "outputs": [
    {
     "data": {
      "text/plain": [
       "0                  Ok\n",
       "1                  Ok\n",
       "2                  Ok\n",
       "3                  Ok\n",
       "4                  Ok\n",
       "            ...      \n",
       "3007    Straordinaria\n",
       "3008    Straordinaria\n",
       "3009    Straordinaria\n",
       "3010    Straordinaria\n",
       "3011    Straordinaria\n",
       "Name: Stock Price, Length: 3012, dtype: object"
      ]
     },
     "execution_count": 144,
     "metadata": {},
     "output_type": "execute_result"
    }
   ],
   "source": [
    "google.apply(classificazione)"
   ]
  },
  {
   "cell_type": "code",
   "execution_count": 145,
   "id": "e308a609",
   "metadata": {},
   "outputs": [
    {
     "data": {
      "text/plain": [
       "0        51.12\n",
       "1        55.10\n",
       "2        55.65\n",
       "3        53.38\n",
       "4        53.95\n",
       "         ...  \n",
       "3007    773.88\n",
       "3008    772.07\n",
       "3009    774.18\n",
       "3010    772.61\n",
       "3011    783.22\n",
       "Name: Stock Price, Length: 3012, dtype: float64"
      ]
     },
     "execution_count": 145,
     "metadata": {},
     "output_type": "execute_result"
    }
   ],
   "source": [
    "# è possibile passare anche una cosidetta funzione anonima, ovvero una funzione senza nome che viene utilzizata \n",
    "# spesso per fare operazioni velocissime\n",
    "google.apply(lambda stock_price : stock_price + 1)"
   ]
  },
  {
   "cell_type": "code",
   "execution_count": 4,
   "id": "845642da",
   "metadata": {},
   "outputs": [
    {
     "data": {
      "text/plain": [
       "0     Bulbasaur\n",
       "1       Ivysaur\n",
       "2      Venusaur\n",
       "3    Charmander\n",
       "Name: Pokemon, dtype: object"
      ]
     },
     "execution_count": 4,
     "metadata": {},
     "output_type": "execute_result"
    }
   ],
   "source": [
    "# andiamo a vedere l'ultima funzione che riguarda le serie che è la funzione map, tramite questa funzione e possibile \n",
    "# ottenere una corrispondenza da due series diverse e maparle in un unica series\n",
    "\n",
    "pokemon_names = pd.read_csv(\"pokemon.csv\",usecols = [\"Pokemon\"], squeeze = True)\n",
    "pokemon_names.head(4)"
   ]
  },
  {
   "cell_type": "code",
   "execution_count": 5,
   "id": "4f7685ec",
   "metadata": {},
   "outputs": [
    {
     "data": {
      "text/plain": [
       "Pokemon\n",
       "Bulbasaur     Grass\n",
       "Ivysaur       Grass\n",
       "Venusaur      Grass\n",
       "Charmander     Fire\n",
       "Name: Type, dtype: object"
      ]
     },
     "execution_count": 5,
     "metadata": {},
     "output_type": "execute_result"
    }
   ],
   "source": [
    "pokemon_types = pd.read_csv(\"pokemon.csv\",index_col = \"Pokemon\", squeeze = True)\n",
    "pokemon_types.head(4)"
   ]
  },
  {
   "cell_type": "code",
   "execution_count": 6,
   "id": "490fe613",
   "metadata": {},
   "outputs": [
    {
     "data": {
      "text/plain": [
       "0        Grass\n",
       "1        Grass\n",
       "2        Grass\n",
       "3         Fire\n",
       "4         Fire\n",
       "        ...   \n",
       "716       Dark\n",
       "717     Dragon\n",
       "718       Rock\n",
       "719    Psychic\n",
       "720       Fire\n",
       "Name: Pokemon, Length: 721, dtype: object"
      ]
     },
     "execution_count": 6,
     "metadata": {},
     "output_type": "execute_result"
    }
   ],
   "source": [
    "pokemon_names.map(pokemon_types)\n",
    "# è molto utilizzata quando dovete mappare delle informazioni provenienti da un altro set di dati e volete\n",
    "# averne una mappatura"
   ]
  },
  {
   "cell_type": "markdown",
   "id": "ea280a0b",
   "metadata": {},
   "source": [
    "# Esercizi Series"
   ]
  },
  {
   "cell_type": "code",
   "execution_count": null,
   "id": "ae7089b4",
   "metadata": {},
   "outputs": [],
   "source": []
  }
 ],
 "metadata": {
  "kernelspec": {
   "display_name": "Python 3 (ipykernel)",
   "language": "python",
   "name": "python3"
  },
  "language_info": {
   "codemirror_mode": {
    "name": "ipython",
    "version": 3
   },
   "file_extension": ".py",
   "mimetype": "text/x-python",
   "name": "python",
   "nbconvert_exporter": "python",
   "pygments_lexer": "ipython3",
   "version": "3.9.7"
  }
 },
 "nbformat": 4,
 "nbformat_minor": 5
}
