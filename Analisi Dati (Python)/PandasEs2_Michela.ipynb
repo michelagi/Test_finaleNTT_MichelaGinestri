{
 "cells": [
  {
   "cell_type": "code",
   "execution_count": 2,
   "metadata": {},
   "outputs": [],
   "source": [
    "#Programma Pandas per importare dati excel dal file (employee.xlsx ) in un dataframe Pandas \n",
    "# e poi trova tutti quei dipendenti con data di assunzione uguale a 2005\n",
    "import pandas as pd\n",
    "import numpy as np"
   ]
  },
  {
   "cell_type": "code",
   "execution_count": 9,
   "metadata": {},
   "outputs": [
    {
     "name": "stdout",
     "output_type": "stream",
     "text": [
      "    emp_id   first_name   last_name  hire_date\n",
      "0      100       Steven        King 2003-06-17\n",
      "1      101        Neena     Kochhar 2005-09-21\n",
      "2      102          Lex     De Haan 2001-01-13\n",
      "3      103    Alexander      Hunold 2006-01-03\n",
      "4      104        Bruce       Ernst 2007-05-21\n",
      "5      105        David      Austin 2005-06-25\n",
      "6      106        Valli   Pataballa 2006-02-05\n",
      "7      107        Diana     Lorentz 2007-02-07\n",
      "8      108        Nancy   Greenberg 2002-08-17\n",
      "9      109       Daniel      Faviet 2002-08-16\n",
      "10     110         John        Chen 2005-09-28\n",
      "11     111       Ismael     Sciarra 2005-09-30\n",
      "12     112  Jose Manuel       Urman 2006-03-07\n",
      "13     113         Luis        Popp 2007-12-07\n",
      "14     114          Den    Raphaely 2002-12-07\n",
      "15     115    Alexander        Khoo 2003-05-18\n",
      "16     116       Shelli       Baida 2005-12-24\n",
      "17     117        Sigal      Tobias 2005-07-24\n",
      "18     118          Guy      Himuro 2006-11-15\n",
      "19     119        Karen  Colmenares 2007-08-10\n"
     ]
    }
   ],
   "source": [
    "pd.read_excel(\"Pandas/employee.xlsx\")\n",
    "df = pd.read_excel(\"Pandas/employee.xlsx\")\n",
    "print(df)\n"
   ]
  },
  {
   "cell_type": "code",
   "execution_count": 15,
   "metadata": {},
   "outputs": [
    {
     "name": "stdout",
     "output_type": "stream",
     "text": [
      "    emp_id first_name last_name  hire_date\n",
      "1      101      Neena   Kochhar 2005-09-21\n",
      "5      105      David    Austin 2005-06-25\n",
      "10     110       John      Chen 2005-09-28\n",
      "11     111     Ismael   Sciarra 2005-09-30\n",
      "16     116     Shelli     Baida 2005-12-24\n",
      "17     117      Sigal    Tobias 2005-07-24\n"
     ]
    }
   ],
   "source": [
    "df_mod=df['hire_date'].between(\"2005-01-01\", \"2005-12-31\")\n",
    "fil_df = df[df_mod]\n",
    "print(fil_df)\n"
   ]
  },
  {
   "cell_type": "code",
   "execution_count": null,
   "metadata": {},
   "outputs": [],
   "source": []
  }
 ],
 "metadata": {
  "interpreter": {
   "hash": "0f9623e3b496def225ad9520a7b2b573095ce9c352ef97f98288bd045417e33d"
  },
  "kernelspec": {
   "display_name": "Python 3.10.0 ('AmbienteEsercizi')",
   "language": "python",
   "name": "python3"
  },
  "language_info": {
   "codemirror_mode": {
    "name": "ipython",
    "version": 3
   },
   "file_extension": ".py",
   "mimetype": "text/x-python",
   "name": "python",
   "nbconvert_exporter": "python",
   "pygments_lexer": "ipython3",
   "version": "3.10.0"
  },
  "orig_nbformat": 4
 },
 "nbformat": 4,
 "nbformat_minor": 2
}
