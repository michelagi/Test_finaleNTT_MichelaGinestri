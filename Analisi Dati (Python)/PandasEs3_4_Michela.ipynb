{
 "cells": [
  {
   "cell_type": "code",
   "execution_count": 11,
   "metadata": {},
   "outputs": [],
   "source": [
    "#Importare il dataset da un sito e scrivere un programma pandas che mi permetta di \n",
    "#trovare tutti i diamanti con lunghezza >5 , larghezza >5 e profondità >5\n",
    "import pandas as pd\n",
    "import numpy as np"
   ]
  },
  {
   "cell_type": "code",
   "execution_count": 12,
   "metadata": {},
   "outputs": [
    {
     "name": "stdout",
     "output_type": "stream",
     "text": [
      "       carat        cut color clarity  depth  table  price     x     y     z\n",
      "0       0.23      Ideal     E     SI2   61.5   55.0    326  3.95  3.98  2.43\n",
      "1       0.21    Premium     E     SI1   59.8   61.0    326  3.89  3.84  2.31\n",
      "2       0.23       Good     E     VS1   56.9   65.0    327  4.05  4.07  2.31\n",
      "3       0.29    Premium     I     VS2   62.4   58.0    334  4.20  4.23  2.63\n",
      "4       0.31       Good     J     SI2   63.3   58.0    335  4.34  4.35  2.75\n",
      "...      ...        ...   ...     ...    ...    ...    ...   ...   ...   ...\n",
      "53935   0.72      Ideal     D     SI1   60.8   57.0   2757  5.75  5.76  3.50\n",
      "53936   0.72       Good     D     SI1   63.1   55.0   2757  5.69  5.75  3.61\n",
      "53937   0.70  Very Good     D     SI1   62.8   60.0   2757  5.66  5.68  3.56\n",
      "53938   0.86    Premium     H     SI2   61.0   58.0   2757  6.15  6.12  3.74\n",
      "53939   0.75      Ideal     D     SI2   62.2   55.0   2757  5.83  5.87  3.64\n",
      "\n",
      "[53940 rows x 10 columns]\n"
     ]
    }
   ],
   "source": [
    "df = pd.read_csv(\"https://raw.githubusercontent.com/mwaskom/seaborn-data/master/diamonds.csv\")\n",
    "print(df)"
   ]
  },
  {
   "cell_type": "code",
   "execution_count": 13,
   "metadata": {},
   "outputs": [
    {
     "name": "stdout",
     "output_type": "stream",
     "text": [
      "   carat      cut color clarity  depth  table  price     x     y     z\n",
      "0   0.23    Ideal     E     SI2   61.5   55.0    326  3.95  3.98  2.43\n",
      "1   0.21  Premium     E     SI1   59.8   61.0    326  3.89  3.84  2.31\n",
      "2   0.23     Good     E     VS1   56.9   65.0    327  4.05  4.07  2.31\n",
      "3   0.29  Premium     I     VS2   62.4   58.0    334  4.20  4.23  2.63\n",
      "4   0.31     Good     J     SI2   63.3   58.0    335  4.34  4.35  2.75\n",
      "\n",
      " Diamanti con lunghezza >5 , larghezza >5 e profondità >5 :\n",
      "       carat   cut color clarity  depth  table  price     x     y     z\n",
      "11778   1.83  Fair     J      I1   70.0   58.0   5083  7.34  7.28  5.12\n",
      "13002   2.14  Fair     J      I1   69.4   57.0   5405  7.74  7.70  5.36\n",
      "13118   2.15  Fair     J      I1   65.5   57.0   5430  8.01  7.95  5.23\n",
      "13562   1.96  Fair     F      I1   66.6   60.0   5554  7.59  7.56  5.04\n",
      "13757   2.22  Fair     J      I1   66.7   56.0   5607  8.04  8.02  5.36\n"
     ]
    }
   ],
   "source": [
    "#Filtro i diamanti con le dimensioni specificate\n",
    "print(df.head())\n",
    "print(\"\\n Diamanti con lunghezza >5 , larghezza >5 e profondità >5 :\")\n",
    "diamonds = df[(df.x>5) & (df.y>5) & (df.z>5)]\n",
    "print(diamonds.head())"
   ]
  },
  {
   "cell_type": "code",
   "execution_count": 14,
   "metadata": {},
   "outputs": [
    {
     "name": "stdout",
     "output_type": "stream",
     "text": [
      "\n",
      " Diamanti Premium or Ideal:\n",
      "    carat      cut color clarity  depth  table  price     x     y     z\n",
      "0    0.23    Ideal     E     SI2   61.5   55.0    326  3.95  3.98  2.43\n",
      "1    0.21  Premium     E     SI1   59.8   61.0    326  3.89  3.84  2.31\n",
      "3    0.29  Premium     I     VS2   62.4   58.0    334  4.20  4.23  2.63\n",
      "11   0.23    Ideal     J     VS1   62.8   56.0    340  3.93  3.90  2.46\n",
      "12   0.22  Premium     F     SI1   60.4   61.0    342  3.88  3.84  2.33\n"
     ]
    }
   ],
   "source": [
    "#Programma Pandas per trovare i diamanti Premium o Ideal\n",
    "print(\"\\n Diamanti Premium or Ideal:\")\n",
    "PremiumIdeal = df[(df.cut == 'Premium') | (df.cut == 'Ideal')]\n",
    "print(PremiumIdeal.head())"
   ]
  }
 ],
 "metadata": {
  "interpreter": {
   "hash": "65dedc9eb17831fdd309b008e31ffbff446b6bb233129ca4c3fef6f4bdffd30d"
  },
  "kernelspec": {
   "display_name": "Python 3.9.7 ('base')",
   "language": "python",
   "name": "python3"
  },
  "language_info": {
   "codemirror_mode": {
    "name": "ipython",
    "version": 3
   },
   "file_extension": ".py",
   "mimetype": "text/x-python",
   "name": "python",
   "nbconvert_exporter": "python",
   "pygments_lexer": "ipython3",
   "version": "3.9.7"
  },
  "orig_nbformat": 4
 },
 "nbformat": 4,
 "nbformat_minor": 2
}
